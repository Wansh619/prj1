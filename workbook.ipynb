{
  "nbformat": 4,
  "nbformat_minor": 0,
  "metadata": {
    "colab": {
      "name": "workbook.ipynb",
      "provenance": [],
      "collapsed_sections": [],
      "toc_visible": true,
      "include_colab_link": true
    },
    "kernelspec": {
      "name": "python3",
      "display_name": "Python 3"
    },
    "language_info": {
      "name": "python"
    }
  },
  "cells": [
    {
      "cell_type": "markdown",
      "metadata": {
        "id": "view-in-github",
        "colab_type": "text"
      },
      "source": [
        "<a href=\"https://colab.research.google.com/github/Wansh619/prj1/blob/main/workbook.ipynb\" target=\"_parent\"><img src=\"https://colab.research.google.com/assets/colab-badge.svg\" alt=\"Open In Colab\"/></a>"
      ]
    },
    {
      "cell_type": "code",
      "execution_count": null,
      "metadata": {
        "id": "MpJlf_RghXJL"
      },
      "outputs": [],
      "source": [
        "import numpy as np\n",
        "import pandas as pd\n",
        "import matplotlib.pyplot as py"
      ]
    },
    {
      "cell_type": "code",
      "source": [
        "data= pd.read_csv('Salary_Data.csv')\n",
        "x=data.iloc[:,:-1].values\n",
        "y=data.iloc[:,1].values\n"
      ],
      "metadata": {
        "id": "untSVy61hqMx"
      },
      "execution_count": null,
      "outputs": []
    },
    {
      "cell_type": "code",
      "source": [
        "from sklearn.model_selection import train_test_split\n",
        "x_train,x_test,y_train,y_test=train_test_split(x,y,train_size=1/3,random_state=0)\n"
      ],
      "metadata": {
        "id": "obXrAWcKiJQO"
      },
      "execution_count": null,
      "outputs": []
    },
    {
      "cell_type": "code",
      "source": [
        "from sklearn.linear_model import LinearRegression\n",
        "lr=LinearRegression()\n",
        "lr.fit(x_train,y_train)\n"
      ],
      "metadata": {
        "id": "7W5hDrjEiKAu"
      },
      "execution_count": null,
      "outputs": []
    },
    {
      "cell_type": "code",
      "source": [
        "y_pred=lr.predict(x_test)"
      ],
      "metadata": {
        "id": "Ki2xCRUOkF0X"
      },
      "execution_count": null,
      "outputs": []
    },
    {
      "cell_type": "code",
      "source": [
        "py.scatter(x_test,y_test,color='red')\n",
        "py.plot(x_test,lr.predict(x_test),color='blue')\n",
        "py.ylabel('salary')\n",
        "py.xlabel('experience')\n",
        "py.title('salary vs exp')\n",
        "py.show()"
      ],
      "metadata": {
        "id": "lO5nI9p5k9JE"
      },
      "execution_count": null,
      "outputs": []
    },
    {
      "cell_type": "code",
      "source": [
        "py.scatter(x_test,y_test,color='red')\n",
        "py.plot(x_test,y_pred,color='blue')\n",
        "py.ylabel('salary')\n",
        "py.xlabel('experience')\n",
        "py.title('salary vs exp')\n",
        "py.show()"
      ],
      "metadata": {
        "id": "MBaII9gWmZb4"
      },
      "execution_count": null,
      "outputs": []
    }
  ]
}